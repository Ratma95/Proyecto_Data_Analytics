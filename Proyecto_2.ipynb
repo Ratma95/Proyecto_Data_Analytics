{
  "nbformat": 4,
  "nbformat_minor": 0,
  "metadata": {
    "colab": {
      "name": "Proyecto_2.ipynb",
      "provenance": [],
      "toc_visible": true,
      "authorship_tag": "ABX9TyO4wKbG16PetUvc8uQJ/9AV",
      "include_colab_link": true
    },
    "kernelspec": {
      "name": "python3",
      "display_name": "Python 3"
    },
    "language_info": {
      "name": "python"
    }
  },
  "cells": [
    {
      "cell_type": "markdown",
      "metadata": {
        "id": "view-in-github",
        "colab_type": "text"
      },
      "source": [
        "<a href=\"https://colab.research.google.com/github/Ratma95/Proyecto_Data_Analytics/blob/main/Proyecto_2.ipynb\" target=\"_parent\"><img src=\"https://colab.research.google.com/assets/colab-badge.svg\" alt=\"Open In Colab\"/></a>"
      ]
    },
    {
      "cell_type": "code",
      "source": [
        "import pandas as pd\n",
        "import matplotlib.pyplot as plt\n",
        "import seaborn as sns\n",
        "import numpy as np\n",
        "from scipy import stats"
      ],
      "metadata": {
        "id": "CnGBtuhJiOU6"
      },
      "execution_count": 70,
      "outputs": []
    },
    {
      "cell_type": "markdown",
      "source": [
        "# Ejercicio N°1\n",
        "      "
      ],
      "metadata": {
        "id": "C5ZAEB9NeP1D"
      }
    },
    {
      "cell_type": "markdown",
      "source": [
        "Escribir una función que devuelva un Hexágono"
      ],
      "metadata": {
        "id": "GCJkQqPseSjQ"
      }
    },
    {
      "cell_type": "markdown",
      "source": [
        "Metodo 1"
      ],
      "metadata": {
        "id": "_V5yKS_FSTxI"
      }
    },
    {
      "cell_type": "code",
      "execution_count": null,
      "metadata": {
        "id": "-xwkW0t1t2nf"
      },
      "outputs": [],
      "source": [
        "import turtle\n",
        "\n",
        "vic=turtle.Turtle()\n",
        "\n",
        "def hexagono(lado):\n",
        "  for i in range(6):\n",
        "      vic.forward(lado)\n",
        "      vic.right(60)\n",
        "\n",
        "\n",
        "hexagono(100)\n"
      ]
    },
    {
      "cell_type": "markdown",
      "source": [
        "Metodo 2"
      ],
      "metadata": {
        "id": "44GG1LNVSXoI"
      }
    },
    {
      "cell_type": "code",
      "source": [
        "def hexagono(base):\n",
        "  for r in range(0,base-1):\n",
        "    print(\" \", end='')\n",
        "  for r in range(0,base):\n",
        "    print(\"*\", end='')\n",
        "\n",
        "  for i in range(1,base-1):\n",
        "    print(\"\\n\", end='')\n",
        "    for e in range(0,base-i-1):\n",
        "      print(\" \", end='')\n",
        "    print(\"*\", end='')\n",
        "    for e in range(0,base+2*i-2):\n",
        "      print(\" \", end='')\n",
        "    print(\"*\", end='')\n",
        "\n",
        "  for i in range(base,1,-1):\n",
        "    print(\"\\n\",end='')\n",
        "    for e in range(0,base-i):\n",
        "      print(\" \",end='')\n",
        "    print(\"*\",end='')\n",
        "    for e in range(0,base+2*i-4):\n",
        "      print(\" \",end='')\n",
        "    print(\"*\",end='')  \n",
        "\n",
        "  print(\"\\n\",end='')\n",
        "  for i in range(0,base-1):\n",
        "    print(\" \",end='')\n",
        "  for i in range(0,base):\n",
        "    print(\"*\",end='')\n",
        "  print(\"\\n\",end='')\n"
      ],
      "metadata": {
        "id": "BHtwwG2ATdOa"
      },
      "execution_count": 4,
      "outputs": []
    },
    {
      "cell_type": "code",
      "source": [
        "base=int(input('Introduce el numero de asteriscos que formaran la base: '))\n",
        "hexagono(base)"
      ],
      "metadata": {
        "id": "PqM8Oih3dBIY"
      },
      "execution_count": null,
      "outputs": []
    },
    {
      "cell_type": "markdown",
      "source": [
        "# Ejercicio N°2\n"
      ],
      "metadata": {
        "id": "nabpAdtFeocC"
      }
    },
    {
      "cell_type": "markdown",
      "source": [
        "Generar un Notebook Colab con código y resultados, con el siguiente fichero autos.csv que contiene información de autos de un periodo de tiempo. Resolver los siguientes:\n",
        "\n",
        "\n",
        "*   Limpieza y tratamiento de las variables\n",
        "*   Generar 5 nuevas variables aplicando los siguientes criterios con las variables numéricas:\n",
        "    1. Log10(var1/var2)\n",
        "    2. Sqrt(var1)exp(var2)/200\n",
        "    3. Si var 1 > var 2 → 5, caso contrario 3\n",
        "    4. 1/logn(var1/var2)*100\n",
        "    5. var2**2/var1\n",
        "    6. pi*sin(var1/var2)\n",
        "\n",
        "\n",
        "\n",
        "\n",
        "*   Generar 3 variables cualitativas ordinales con los siguientes criterios:\n",
        "  1. Si es mayor a la “media + 1*desviación estándar” → Alto\n",
        "  2. Si está entre “media - 1*desviación estándar” y “media + 1*desviación estándar” → Medio\n",
        "  3. Si es menor a la “media - 1*desviación estándar” → Bajo\n",
        "\n",
        "\n",
        "\n",
        "\n",
        "\n",
        "\n",
        "\n",
        "\n",
        "\n",
        "\n",
        "\n",
        "\n",
        "\n",
        "\n",
        "\n",
        "\n",
        "\n",
        "\n",
        "\n",
        "\n",
        "\n",
        "\n",
        "\n",
        "\n",
        "\n",
        "\n",
        "\n",
        "\n",
        "\n",
        "\n",
        "\n",
        "\n",
        "\n",
        "\n",
        "\n",
        "\n",
        "\n",
        "\n"
      ],
      "metadata": {
        "id": "ublLwiNAex0E"
      }
    },
    {
      "cell_type": "code",
      "source": [
        "#cargamos la data desde nuestra PC\n",
        "from google.colab import files\n",
        "files.upload()"
      ],
      "metadata": {
        "colab": {
          "resources": {
            "http://localhost:8080/nbextensions/google.colab/files.js": {
              "data": "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",
              "ok": true,
              "headers": [
                [
                  "content-type",
                  "application/javascript"
                ]
              ],
              "status": 200,
              "status_text": ""
            }
          },
          "base_uri": "https://localhost:8080/",
          "height": 110
        },
        "id": "jf90m-iUgh-j",
        "outputId": "57299914-8b5e-4aea-ed3c-0090274f5c01"
      },
      "execution_count": 49,
      "outputs": [
        {
          "output_type": "display_data",
          "data": {
            "text/html": [
              "\n",
              "     <input type=\"file\" id=\"files-5661e10f-d986-4bb2-bc86-218114785d23\" name=\"files[]\" multiple disabled\n",
              "        style=\"border:none\" />\n",
              "     <output id=\"result-5661e10f-d986-4bb2-bc86-218114785d23\">\n",
              "      Upload widget is only available when the cell has been executed in the\n",
              "      current browser session. Please rerun this cell to enable.\n",
              "      </output>\n",
              "      <script src=\"/nbextensions/google.colab/files.js\"></script> "
            ],
            "text/plain": [
              "<IPython.core.display.HTML object>"
            ]
          },
          "metadata": {}
        },
        {
          "output_type": "stream",
          "name": "stdout",
          "text": [
            "Saving autos.csv to autos (1).csv\n"
          ]
        },
        {
          "output_type": "execute_result",
          "data": {
            "text/plain": [
              "{'autos.csv': b\"Millas_Por_Galon;Cilindros;Pais_Origen;Peso_En_Libras;Desplazamiento;Aceleracion;Nombre;Anyo;Caballo_De_Fuerza\\r\\n18;8;USA;3504;307;12;chevrolet chevelle malibu;1/01/1970;130\\r\\n15;8;USA;3693;350;11.5;buick skylark 320;1/01/1970;165\\r\\n18;8;USA;3436;318;11;plymouth satellite;1/01/1970;150\\r\\n16;8;USA;3433;304;12;amc rebel sst;1/01/1970;150\\r\\n17;8;USA;3449;302;10.5;ford torino;1/01/1970;140\\r\\n15;8;USA;4341;429;10;ford galaxie 500;1/01/1970;198\\r\\n14;8;USA;4354;454;9;chevrolet impala;1/01/1970;220\\r\\n14;8;USA;4312;440;8.5;plymouth fury iii;1/01/1970;215\\r\\n14;8;USA;4425;455;10;pontiac catalina;1/01/1970;225\\r\\n15;8;USA;3850;390;8.5;amc ambassador dpl;1/01/1970;190\\r\\nNA;4;Europe;3090;133;17.5;citroen ds-21 pallas;1/01/1970;115\\r\\nNA;8;USA;4142;350;11.5;chevrolet chevelle concours (sw);1/01/1970;165\\r\\nNA;8;USA;4034;351;11;ford torino (sw);1/01/1970;153\\r\\nNA;8;USA;4166;383;10.5;plymouth satellite (sw);1/01/1970;175\\r\\nNA;8;USA;3850;360;11;amc rebel sst (sw);1/01/1970;175\\r\\n15;8;USA;3563;383;10;dodge challenger se;1/01/1970;170\\r\\n14;8;USA;3609;340;8;plymouth 'cuda 340;1/01/1970;160\\r\\nNA;8;USA;3353;302;8;ford mustang boss 302;1/01/1970;140\\r\\n15;8;USA;3761;400;9.5;chevrolet monte carlo;1/01/1970;150\\r\\n14;8;USA;3086;455;10;buick estate wagon (sw);1/01/1970;225\\r\\n24;4;Japan;2372;113;15;toyota corona mark ii;1/01/1970;95\\r\\n22;6;USA;2833;198;15.5;plymouth duster;1/01/1970;95\\r\\n18;6;USA;2774;199;15.5;amc hornet;1/01/1970;97\\r\\n21;6;USA;2587;200;16;ford maverick;1/01/1970;85\\r\\n27;4;Japan;2130;97;14.5;datsun pl510;1/01/1970;88\\r\\n26;4;Europe;1835;97;20.5;volkswagen 1131 deluxe sedan;1/01/1970;46\\r\\n25;4;Europe;2672;110;17.5;peugeot 504;1/01/1970;87\\r\\n24;4;Europe;2430;107;14.5;audi 100 ls;1/01/1970;90\\r\\n25;4;Europe;2375;104;17.5;saab 99e;1/01/1970;95\\r\\n26;4;Europe;2234;121;12.5;bmw 2002;1/01/1970;113\\r\\n21;6;USA;2648;199;15;amc gremlin;1/01/1970;90\\r\\n10;8;USA;4615;360;14;ford f250;1/01/1970;215\\r\\n10;8;USA;4376;307;15;chevy c20;1/01/1970;200\\r\\n11;8;USA;4382;318;13.5;dodge d200;1/01/1970;210\\r\\n9;8;USA;4732;304;18.5;hi 1200d;1/01/1970;193\\r\\n27;4;Japan;2130;97;14.5;datsun pl510;1/01/1971;88\\r\\n28;4;USA;2264;140;15.5;chevrolet vega 2300;1/01/1971;90\\r\\n25;4;Japan;2228;113;14;toyota corona;1/01/1971;95\\r\\n25;4;USA;2046;98;19;ford pinto;1/01/1971;NA\\r\\nNA;4;Europe;1978;97;20;volkswagen super beetle 117;1/01/1971;48\\r\\n19;6;USA;2634;232;13;amc gremlin;1/01/1971;100\\r\\n16;6;USA;3439;225;15.5;plymouth satellite custom;1/01/1971;105\\r\\n17;6;USA;3329;250;15.5;chevrolet chevelle malibu;1/01/1971;100\\r\\n19;6;USA;3302;250;15.5;ford torino 500;1/01/1971;88\\r\\n18;6;USA;3288;232;15.5;amc matador;1/01/1971;100\\r\\n14;8;USA;4209;350;12;chevrolet impala;1/01/1971;165\\r\\n14;8;USA;4464;400;11.5;pontiac catalina brougham;1/01/1971;175\\r\\n14;8;USA;4154;351;13.5;ford galaxie 500;1/01/1971;153\\r\\n14;8;USA;4096;318;13;plymouth fury iii;1/01/1971;150\\r\\n12;8;USA;4955;383;11.5;dodge monaco (sw);1/01/1971;180\\r\\n13;8;USA;4746;400;12;ford country squire (sw);1/01/1971;170\\r\\n13;8;USA;5140;400;12;pontiac safari (sw);1/01/1971;175\\r\\n18;6;USA;2962;258;13.5;amc hornet sportabout (sw);1/01/1971;110\\r\\n22;4;USA;2408;140;19;chevrolet vega (sw);1/01/1971;72\\r\\n19;6;USA;3282;250;15;pontiac firebird;1/01/1971;100\\r\\n18;6;USA;3139;250;14.5;ford mustang;1/01/1971;88\\r\\n23;4;USA;2220;122;14;mercury capri 2000;1/01/1971;86\\r\\n28;4;Europe;2123;116;14;opel 1900;1/01/1971;90\\r\\n30;4;Europe;2074;79;19.5;peugeot 304;1/01/1971;70\\r\\n30;4;Europe;2065;88;14.5;fiat 124b;1/01/1971;76\\r\\n31;4;Japan;1773;71;19;toyota corolla 1200;1/01/1971;65\\r\\n35;4;Japan;1613;72;18;datsun 1200;1/01/1971;69\\r\\n27;4;Europe;1834;97;19;volkswagen model 111;1/01/1971;60\\r\\n26;4;USA;1955;91;20.5;plymouth cricket;1/01/1971;70\\r\\n24;4;Japan;2278;113;15.5;toyota corona hardtop;1/01/1972;95\\r\\n25;4;USA;2126;97.5;17;dodge colt hardtop;1/01/1972;80\\r\\n23;4;Europe;2254;97;23.5;volkswagen type 3;1/01/1972;54\\r\\n20;4;USA;2408;140;19.5;chevrolet vega;1/01/1972;90\\r\\n21;4;USA;2226;122;16.5;ford pinto runabout;1/01/1972;86\\r\\n13;8;USA;4274;350;12;chevrolet impala;1/01/1972;165\\r\\n14;8;USA;4385;400;12;pontiac catalina;1/01/1972;175\\r\\n15;8;USA;4135;318;13.5;plymouth fury iii;1/01/1972;150\\r\\n14;8;USA;4129;351;13;ford galaxie 500;1/01/1972;153\\r\\n17;8;USA;3672;304;11.5;amc ambassador sst;1/01/1972;150\\r\\n11;8;USA;4633;429;11;mercury marquis;1/01/1972;208\\r\\n13;8;USA;4502;350;13.5;buick lesabre custom;1/01/1972;155\\r\\n12;8;USA;4456;350;13.5;oldsmobile delta 88 royale;1/01/1972;160\\r\\n13;8;USA;4422;400;12.5;chrysler newport royal;1/01/1972;190\\r\\n19;3;Japan;2330;70;13.5;mazda rx2 coupe;1/01/1972;97\\r\\n15;8;USA;3892;304;12.5;amc matador (sw);1/01/1972;150\\r\\n13;8;USA;4098;307;14;chevrolet chevelle concours (sw);1/01/1972;130\\r\\n13;8;USA;4294;302;16;ford gran torino (sw);1/01/1972;140\\r\\n14;8;USA;4077;318;14;plymouth satellite custom (sw);1/01/1972;150\\r\\n18;4;Europe;2933;121;14.5;volvo 145e (sw);1/01/1972;112\\r\\n22;4;Europe;2511;121;18;volkswagen 411 (sw);1/01/1972;76\\r\\n21;4;Europe;2979;120;19.5;peugeot 504 (sw);1/01/1972;87\\r\\n26;4;Europe;2189;96;18;renault 12 (sw);1/01/1972;69\\r\\n22;4;USA;2395;122;16;ford pinto (sw);1/01/1972;86\\r\\n28;4;Japan;2288;97;17;datsun 510 (sw);1/01/1972;92\\r\\n23;4;Japan;2506;120;14.5;toyouta corona mark ii (sw);1/01/1972;97\\r\\n28;4;USA;2164;98;15;dodge colt (sw);1/01/1972;80\\r\\n27;4;Japan;2100;97;16.5;toyota corolla 1600 (sw);1/01/1972;88\\r\\n13;8;USA;4100;350;13;buick century 350;1/01/1973;175\\r\\n14;8;USA;3672;304;11.5;amc matador;1/01/1973;150\\r\\n13;8;USA;3988;350;13;chevrolet malibu;1/01/1973;145\\r\\n14;8;USA;4042;302;14.5;ford gran torino;1/01/1973;137\\r\\n15;8;USA;3777;318;12.5;dodge coronet custom;1/01/1973;150\\r\\n12;8;USA;4952;429;11.5;mercury marquis brougham;1/01/1973;198\\r\\n13;8;USA;4464;400;12;chevrolet caprice classic;1/01/1973;150\\r\\n13;8;USA;4363;351;13;ford ltd;1/01/1973;158\\r\\n14;8;USA;4237;318;14.5;plymouth fury gran sedan;1/01/1973;150\\r\\n13;8;USA;4735;440;11;chrysler new yorker brougham;1/01/1973;215\\r\\n12;8;USA;4951;455;11;buick electra 225 custom;1/01/1973;225\\r\\n13;8;USA;3821;360;11;amc ambassador brougham;1/01/1973;175\\r\\n18;6;USA;3121;225;16.5;plymouth valiant;1/01/1973;105\\r\\n16;6;USA;3278;250;18;chevrolet nova custom;1/01/1973;100\\r\\n18;6;USA;2945;232;16;amc hornet;1/01/1973;100\\r\\n18;6;USA;3021;250;16.5;ford maverick;1/01/1973;88\\r\\n23;6;USA;2904;198;16;plymouth duster;1/01/1973;95\\r\\n26;4;Europe;1950;97;21;volkswagen super beetle;1/01/1973;46\\r\\n11;8;USA;4997;400;14;chevrolet impala;1/01/1973;150\\r\\n12;8;USA;4906;400;12.5;ford country;1/01/1973;167\\r\\n13;8;USA;4654;360;13;plymouth custom suburb;1/01/1973;170\\r\\n12;8;USA;4499;350;12.5;oldsmobile vista cruiser;1/01/1973;180\\r\\n18;6;USA;2789;232;15;amc gremlin;1/01/1973;100\\r\\n20;4;Japan;2279;97;19;toyota carina;1/01/1973;88\\r\\n21;4;USA;2401;140;19.5;chevrolet vega;1/01/1973;72\\r\\n22;4;Japan;2379;108;16.5;datsun 610;1/01/1973;94\\r\\n18;3;Japan;2124;70;13.5;maxda rx3;1/01/1973;90\\r\\n19;4;USA;2310;122;18.5;ford pinto;1/01/1973;85\\r\\n21;6;USA;2472;155;14;mercury capri v6;1/01/1973;107\\r\\n26;4;Europe;2265;98;15.5;fiat 124 sport coupe;1/01/1973;90\\r\\n15;8;USA;4082;350;13;chevrolet monte carlo s;1/01/1973;145\\r\\n16;8;USA;4278;400;9.5;pontiac grand prix;1/01/1973;230\\r\\n29;4;Europe;1867;68;19.5;fiat 128;1/01/1973;49\\r\\n24;4;Europe;2158;116;15.5;opel manta;1/01/1973;75\\r\\n20;4;Europe;2582;114;14;audi 100ls;1/01/1973;91\\r\\n19;4;Europe;2868;121;15.5;volvo 144ea;1/01/1973;112\\r\\n15;8;USA;3399;318;11;dodge dart custom;1/01/1973;150\\r\\n24;4;Europe;2660;121;14;saab 99le;1/01/1973;110\\r\\n20;6;Japan;2807;156;13.5;toyota mark ii;1/01/1973;122\\r\\n11;8;USA;3664;350;11;oldsmobile omega;1/01/1973;180\\r\\n20;6;USA;3102;198;16.5;plymouth duster;1/01/1974;95\\r\\n21;6;USA;2875;200;17;ford maverick;1/01/1974;NA\\r\\n19;6;USA;2901;232;16;amc hornet;1/01/1974;100\\r\\n15;6;USA;3336;250;17;chevrolet nova;1/01/1974;100\\r\\n31;4;Japan;1950;79;19;datsun b210;1/01/1974;67\\r\\n26;4;USA;2451;122;16.5;ford pinto;1/01/1974;80\\r\\n32;4;Japan;1836;71;21;toyota corolla 1200;1/01/1974;65\\r\\n25;4;USA;2542;140;17;chevrolet vega;1/01/1974;75\\r\\n16;6;USA;3781;250;17;chevrolet chevelle malibu classic;1/01/1974;100\\r\\n16;6;USA;3632;258;18;amc matador;1/01/1974;110\\r\\n18;6;USA;3613;225;16.5;plymouth satellite sebring;1/01/1974;105\\r\\n16;8;USA;4141;302;14;ford gran torino;1/01/1974;140\\r\\n13;8;USA;4699;350;14.5;buick century luxus (sw);1/01/1974;150\\r\\n14;8;USA;4457;318;13.5;dodge coronet custom (sw);1/01/1974;150\\r\\n14;8;USA;4638;302;16;ford gran torino (sw);1/01/1974;140\\r\\n14;8;USA;4257;304;15.5;amc matador (sw);1/01/1974;150\\r\\n29;4;Europe;2219;98;16.5;audi fox;1/01/1974;83\\r\\n26;4;Europe;1963;79;15.5;volkswagen dasher;1/01/1974;67\\r\\n26;4;Europe;2300;97;14.5;opel manta;1/01/1974;78\\r\\n31;4;Japan;1649;76;16.5;toyota corona;1/01/1974;52\\r\\n32;4;Japan;2003;83;19;datsun 710;1/01/1974;61\\r\\n28;4;USA;2125;90;14.5;dodge colt;1/01/1974;75\\r\\n24;4;Europe;2108;90;15.5;fiat 128;1/01/1974;75\\r\\n26;4;Europe;2246;116;14;fiat 124 tc;1/01/1974;75\\r\\n24;4;Japan;2489;120;15;honda civic;1/01/1974;97\\r\\n26;4;Japan;2391;108;15.5;subaru;1/01/1974;93\\r\\n31;4;Europe;2000;79;16;fiat x1.9;1/01/1974;67\\r\\n19;6;USA;3264;225;16;plymouth valiant custom;1/01/1975;95\\r\\n18;6;USA;3459;250;16;chevrolet nova;1/01/1975;105\\r\\n15;6;USA;3432;250;21;mercury monarch;1/01/1975;72\\r\\n15;6;USA;3158;250;19.5;ford maverick;1/01/1975;72\\r\\n16;8;USA;4668;400;11.5;pontiac catalina;1/01/1975;170\\r\\n15;8;USA;4440;350;14;chevrolet bel air;1/01/1975;145\\r\\n16;8;USA;4498;318;14.5;plymouth grand fury;1/01/1975;150\\r\\n14;8;USA;4657;351;13.5;ford ltd;1/01/1975;148\\r\\n17;6;USA;3907;231;21;buick century;1/01/1975;110\\r\\n16;6;USA;3897;250;18.5;chevroelt chevelle malibu;1/01/1975;105\\r\\n15;6;USA;3730;258;19;amc matador;1/01/1975;110\\r\\n18;6;USA;3785;225;19;plymouth fury;1/01/1975;95\\r\\n21;6;USA;3039;231;15;buick skyhawk;1/01/1975;110\\r\\n20;8;USA;3221;262;13.5;chevrolet monza 2+2;1/01/1975;110\\r\\n13;8;USA;3169;302;12;ford mustang ii;1/01/1975;129\\r\\n29;4;Japan;2171;97;16;toyota corolla;1/01/1975;75\\r\\n23;4;USA;2639;140;17;ford pinto;1/01/1975;83\\r\\n20;6;USA;2914;232;16;amc gremlin;1/01/1975;100\\r\\n23;4;USA;2592;140;18.5;pontiac astro;1/01/1975;78\\r\\n24;4;Japan;2702;134;13.5;toyota corona;1/01/1975;96\\r\\n25;4;Europe;2223;90;16.5;volkswagen dasher;1/01/1975;71\\r\\n24;4;Japan;2545;119;17;datsun 710;1/01/1975;97\\r\\n18;6;USA;2984;171;14.5;ford pinto;1/01/1975;97\\r\\n29;4;Europe;1937;90;14;volkswagen rabbit;1/01/1975;70\\r\\n19;6;USA;3211;232;17;amc pacer;1/01/1975;90\\r\\n23;4;Europe;2694;115;15;audi 100ls;1/01/1975;95\\r\\n23;4;Europe;2957;120;17;peugeot 504;1/01/1975;88\\r\\n22;4;Europe;2945;121;14.5;volvo 244dl;1/01/1975;98\\r\\n25;4;Europe;2671;121;13.5;saab 99le;1/01/1975;115\\r\\n33;4;Japan;1795;91;17.5;honda civic cvcc;1/01/1975;53\\r\\n28;4;Europe;2464;107;15.5;fiat 131;1/01/1976;86\\r\\n25;4;Europe;2220;116;16.9;opel 1900;1/01/1976;81\\r\\n25;4;USA;2572;140;14.9;capri ii;1/01/1976;92\\r\\n26;4;USA;2255;98;17.7;dodge colt;1/01/1976;79\\r\\n27;4;Europe;2202;101;15.3;renault 12tl;1/01/1976;83\\r\\n17.5;8;USA;4215;305;13;chevrolet chevelle malibu classic;1/01/1976;140\\r\\n16;8;USA;4190;318;13;dodge coronet brougham;1/01/1976;150\\r\\n15.5;8;USA;3962;304;13.9;amc matador;1/01/1976;120\\r\\n14.5;8;USA;4215;351;12.8;ford gran torino;1/01/1976;152\\r\\n22;6;USA;3233;225;15.4;plymouth valiant;1/01/1976;100\\r\\n22;6;USA;3353;250;14.5;chevrolet nova;1/01/1976;105\\r\\n24;6;USA;3012;200;17.6;ford maverick;1/01/1976;81\\r\\n22.5;6;USA;3085;232;17.6;amc hornet;1/01/1976;90\\r\\n29;4;USA;2035;85;22.2;chevrolet chevette;1/01/1976;52\\r\\n24.5;4;USA;2164;98;22.1;chevrolet woody;1/01/1976;60\\r\\n29;4;Europe;1937;90;14.2;vw rabbit;1/01/1976;70\\r\\n33;4;Japan;1795;91;17.4;honda civic;1/01/1976;53\\r\\n20;6;USA;3651;225;17.7;dodge aspen se;1/01/1976;100\\r\\n18;6;USA;3574;250;21;ford granada ghia;1/01/1976;78\\r\\n18.5;6;USA;3645;250;16.2;pontiac ventura sj;1/01/1976;110\\r\\n17.5;6;USA;3193;258;17.8;amc pacer d/l;1/01/1976;95\\r\\n29.5;4;Europe;1825;97;12.2;volkswagen rabbit;1/01/1976;71\\r\\n32;4;Japan;1990;85;17;datsun b-210;1/01/1976;70\\r\\n28;4;Japan;2155;97;16.4;toyota corolla;1/01/1976;75\\r\\n26.5;4;USA;2565;140;13.6;ford pinto;1/01/1976;72\\r\\n20;4;Europe;3150;130;15.7;volvo 245;1/01/1976;102\\r\\n13;8;USA;3940;318;13.2;plymouth volare premier v8;1/01/1976;150\\r\\n19;4;Europe;3270;120;21.9;peugeot 504;1/01/1976;88\\r\\n19;6;Japan;2930;156;15.5;toyota mark ii;1/01/1976;108\\r\\n16.5;6;Europe;3820;168;16.7;mercedes-benz 280s;1/01/1976;120\\r\\n16.5;8;USA;4380;350;12.1;cadillac seville;1/01/1976;180\\r\\n13;8;USA;4055;350;12;chevy c10;1/01/1976;145\\r\\n13;8;USA;3870;302;15;ford f108;1/01/1976;130\\r\\n13;8;USA;3755;318;14;dodge d100;1/01/1976;150\\r\\n31.5;4;Japan;2045;98;18.5;honda Accelerationord cvcc;1/01/1977;68\\r\\n30;4;USA;2155;111;14.8;buick opel isuzu deluxe;1/01/1977;80\\r\\n36;4;Europe;1825;79;18.6;renault 5 gtl;1/01/1977;58\\r\\n25.5;4;USA;2300;122;15.5;plymouth arrow gs;1/01/1977;96\\r\\n33.5;4;Japan;1945;85;16.8;datsun f-10 hatchback;1/01/1977;70\\r\\n17.5;8;USA;3880;305;12.5;chevrolet caprice classic;1/01/1977;145\\r\\n17;8;USA;4060;260;19;oldsmobile cutlass supreme;1/01/1977;110\\r\\n15.5;8;USA;4140;318;13.7;dodge monaco brougham;1/01/1977;145\\r\\n15;8;USA;4295;302;14.9;mercury cougar brougham;1/01/1977;130\\r\\n17.5;6;USA;3520;250;16.4;chevrolet concours;1/01/1977;110\\r\\n20.5;6;USA;3425;231;16.9;buick skylark;1/01/1977;105\\r\\n19;6;USA;3630;225;17.7;plymouth volare custom;1/01/1977;100\\r\\n18.5;6;USA;3525;250;19;ford granada;1/01/1977;98\\r\\n16;8;USA;4220;400;11.1;pontiac grand prix lj;1/01/1977;180\\r\\n15.5;8;USA;4165;350;11.4;chevrolet monte carlo landau;1/01/1977;170\\r\\n15.5;8;USA;4325;400;12.2;chrysler cordoba;1/01/1977;190\\r\\n16;8;USA;4335;351;14.5;ford thunderbird;1/01/1977;149\\r\\n29;4;Europe;1940;97;14.5;volkswagen rabbit custom;1/01/1977;78\\r\\n24.5;4;USA;2740;151;16;pontiac sunbird coupe;1/01/1977;88\\r\\n26;4;Japan;2265;97;18.2;toyota corolla liftback;1/01/1977;75\\r\\n25.5;4;USA;2755;140;15.8;ford mustang ii 2+2;1/01/1977;89\\r\\n30.5;4;USA;2051;98;17;chevrolet chevette;1/01/1977;63\\r\\n33.5;4;USA;2075;98;15.9;dodge colt m/m;1/01/1977;83\\r\\n30;4;Japan;1985;97;16.4;subaru dl;1/01/1977;67\\r\\n30.5;4;Europe;2190;97;14.1;volkswagen dasher;1/01/1977;78\\r\\n22;6;Japan;2815;146;14.5;datsun 810;1/01/1977;97\\r\\n21.5;4;Europe;2600;121;12.8;bmw 320i;1/01/1977;110\\r\\n21.5;3;Japan;2720;80;13.5;mazda rx-4;1/01/1977;110\\r\\n43.1;4;Europe;1985;90;21.5;volkswagen rabbit custom diesel;1/01/1978;48\\r\\n36.1;4;USA;1800;98;14.4;ford fiesta;1/01/1978;66\\r\\n32.8;4;Japan;1985;78;19.4;mazda glc deluxe;1/01/1978;52\\r\\n39.4;4;Japan;2070;85;18.6;datsun b210 gx;1/01/1978;70\\r\\n36.1;4;Japan;1800;91;16.4;honda civic cvcc;1/01/1978;60\\r\\n19.9;8;USA;3365;260;15.5;oldsmobile cutlass salon brougham;1/01/1978;110\\r\\n19.4;8;USA;3735;318;13.2;dodge diplomat;1/01/1978;140\\r\\n20.2;8;USA;3570;302;12.8;mercury monarch ghia;1/01/1978;139\\r\\n19.2;6;USA;3535;231;19.2;pontiac phoenix lj;1/01/1978;105\\r\\n20.5;6;USA;3155;200;18.2;chevrolet malibu;1/01/1978;95\\r\\n20.2;6;USA;2965;200;15.8;ford fairmont (auto);1/01/1978;85\\r\\n25.1;4;USA;2720;140;15.4;ford fairmont (man);1/01/1978;88\\r\\n20.5;6;USA;3430;225;17.2;plymouth volare;1/01/1978;100\\r\\n19.4;6;USA;3210;232;17.2;amc concord;1/01/1978;90\\r\\n20.6;6;USA;3380;231;15.8;buick century special;1/01/1978;105\\r\\n20.8;6;USA;3070;200;16.7;mercury zephyr;1/01/1978;85\\r\\n18.6;6;USA;3620;225;18.7;dodge aspen;1/01/1978;110\\r\\n18.1;6;USA;3410;258;15.1;amc concord d/l;1/01/1978;120\\r\\n19.2;8;USA;3425;305;13.2;chevrolet monte carlo landau;1/01/1978;145\\r\\n17.7;6;USA;3445;231;13.4;buick regal sport coupe (turbo);1/01/1978;165\\r\\n18.1;8;USA;3205;302;11.2;ford futura;1/01/1978;139\\r\\n17.5;8;USA;4080;318;13.7;dodge magnum xe;1/01/1978;140\\r\\n30;4;USA;2155;98;16.5;chevrolet chevette;1/01/1978;68\\r\\n27.5;4;Japan;2560;134;14.2;toyota corona;1/01/1978;95\\r\\n27.2;4;Japan;2300;119;14.7;datsun 510;1/01/1978;97\\r\\n30.9;4;USA;2230;105;14.5;dodge omni;1/01/1978;75\\r\\n21.1;4;Japan;2515;134;14.8;toyota celica gt liftback;1/01/1978;95\\r\\n23.2;4;USA;2745;156;16.7;plymouth sapporo;1/01/1978;105\\r\\n23.8;4;USA;2855;151;17.6;oldsmobile starfire sx;1/01/1978;85\\r\\n23.9;4;Japan;2405;119;14.9;datsun 200-sx;1/01/1978;97\\r\\n20.3;5;Europe;2830;131;15.9;audi 5000;1/01/1978;103\\r\\n17;6;Europe;3140;163;13.6;volvo 264gl;1/01/1978;125\\r\\n21.6;4;Europe;2795;121;15.7;saab 99gle;1/01/1978;115\\r\\n16.2;6;Europe;3410;163;15.8;peugeot 604sl;1/01/1978;133\\r\\n31.5;4;Europe;1990;89;14.9;volkswagen scirocco;1/01/1978;71\\r\\n29.5;4;Japan;2135;98;16.6;honda Accelerationord lx;1/01/1978;68\\r\\n21.5;6;USA;3245;231;15.4;pontiac lemans v6;1/01/1979;115\\r\\n19.8;6;USA;2990;200;18.2;mercury zephyr 6;1/01/1979;85\\r\\n22.3;4;USA;2890;140;17.3;ford fairmont 4;1/01/1979;88\\r\\n20.2;6;USA;3265;232;18.2;amc concord dl 6;1/01/1979;90\\r\\n20.6;6;USA;3360;225;16.6;dodge aspen 6;1/01/1979;110\\r\\n17;8;USA;3840;305;15.4;chevrolet caprice classic;1/01/1979;130\\r\\n17.6;8;USA;3725;302;13.4;ford ltd landau;1/01/1979;129\\r\\n16.5;8;USA;3955;351;13.2;mercury grand marquis;1/01/1979;138\\r\\n18.2;8;USA;3830;318;15.2;dodge st. regis;1/01/1979;135\\r\\n16.9;8;USA;4360;350;14.9;buick estate wagon (sw);1/01/1979;155\\r\\n15.5;8;USA;4054;351;14.3;ford country squire (sw);1/01/1979;142\\r\\n19.2;8;USA;3605;267;15;chevrolet malibu classic (sw);1/01/1979;125\\r\\n18.5;8;USA;3940;360;13;chrysler lebaron town @ country (sw);1/01/1979;150\\r\\n31.9;4;Europe;1925;89;14;vw rabbit custom;1/01/1979;71\\r\\n34.1;4;Japan;1975;86;15.2;maxda glc deluxe;1/01/1979;65\\r\\n35.7;4;USA;1915;98;14.4;dodge colt hatchback custom;1/01/1979;80\\r\\n27.4;4;USA;2670;121;15;amc spirit dl;1/01/1979;80\\r\\n25.4;5;Europe;3530;183;20.1;mercedes benz 300d;1/01/1979;77\\r\\n23;8;USA;3900;350;17.4;cadillac eldorado;1/01/1979;125\\r\\n27.2;4;Europe;3190;141;24.8;peugeot 504;1/01/1979;71\\r\\n23.9;8;USA;3420;260;22.2;oldsmobile cutlass salon brougham;1/01/1979;90\\r\\n34.2;4;USA;2200;105;13.2;plymouth horizon;1/01/1979;70\\r\\n34.5;4;USA;2150;105;14.9;plymouth horizon tc3;1/01/1979;70\\r\\n31.8;4;Japan;2020;85;19.2;datsun 210;1/01/1979;65\\r\\n37.3;4;Europe;2130;91;14.7;fiat strada custom;1/01/1979;69\\r\\n28.4;4;USA;2670;151;16;buick skylark limited;1/01/1979;90\\r\\n28.8;6;USA;2595;173;11.3;chevrolet citation;1/01/1979;115\\r\\n26.8;6;USA;2700;173;12.9;oldsmobile omega brougham;1/01/1979;115\\r\\n33.5;4;USA;2556;151;13.2;pontiac phoenix;1/01/1979;90\\r\\n41.5;4;Europe;2144;98;14.7;vw rabbit;1/01/1980;76\\r\\n38.1;4;Japan;1968;89;18.8;toyota corolla tercel;1/01/1980;60\\r\\n32.1;4;USA;2120;98;15.5;chevrolet chevette;1/01/1980;70\\r\\n37.2;4;Japan;2019;86;16.4;datsun 310;1/01/1980;65\\r\\n28;4;USA;2678;151;16.5;chevrolet citation;1/01/1980;90\\r\\n26.4;4;USA;2870;140;18.1;ford fairmont;1/01/1980;88\\r\\n24.3;4;USA;3003;151;20.1;amc concord;1/01/1980;90\\r\\n19.1;6;USA;3381;225;18.7;dodge aspen;1/01/1980;90\\r\\n34.3;4;Europe;2188;97;15.8;audi 4000;1/01/1980;78\\r\\n29.8;4;Japan;2711;134;15.5;toyota corona liftback;1/01/1980;90\\r\\n31.3;4;Japan;2542;120;17.5;mazda 626;1/01/1980;75\\r\\n37;4;Japan;2434;119;15;datsun 510 hatchback;1/01/1980;92\\r\\n32.2;4;Japan;2265;108;15.2;toyota corolla;1/01/1980;75\\r\\n46.6;4;Japan;2110;86;17.9;mazda glc;1/01/1980;65\\r\\n27.9;4;USA;2800;156;14.4;dodge colt;1/01/1980;105\\r\\n40.8;4;Japan;2110;85;19.2;datsun 210;1/01/1980;65\\r\\n44.3;4;Europe;2085;90;21.7;vw rabbit c (diesel);1/01/1980;48\\r\\n43.4;4;Europe;2335;90;23.7;vw dasher (diesel);1/01/1980;48\\r\\n36.4;5;Europe;2950;121;19.9;audi 5000s (diesel);1/01/1980;67\\r\\n30;4;Europe;3250;146;21.8;mercedes-benz 240d;1/01/1980;67\\r\\n44.6;4;Japan;1850;91;13.8;honda civic 1500 gl;1/01/1980;67\\r\\n40.9;4;Europe;1835;85;17.3;renault lecar deluxe;1/01/1980;NA\\r\\n33.8;4;Japan;2145;97;18;subaru dl;1/01/1980;67\\r\\n29.8;4;Europe;1845;89;15.3;vokswagen rabbit;1/01/1980;62\\r\\n32.7;6;Japan;2910;168;11.4;datsun 280-zx;1/01/1980;132\\r\\n23.7;3;Japan;2420;70;12.5;mazda rx-7 gs;1/01/1980;100\\r\\n35;4;Europe;2500;122;15.1;triumph tr7 coupe;1/01/1980;88\\r\\n23.6;4;USA;2905;140;14.3;ford mustang cobra;1/01/1980;NA\\r\\n32.4;4;Japan;2290;107;17;honda Accelerationord;1/01/1980;72\\r\\n27.2;4;USA;2490;135;15.7;plymouth reliant;1/01/1982;84\\r\\n26.6;4;USA;2635;151;16.4;buick skylark;1/01/1982;84\\r\\n25.8;4;USA;2620;156;14.4;dodge aries wagon (sw);1/01/1982;92\\r\\n23.5;6;USA;2725;173;12.6;chevrolet citation;1/01/1982;110\\r\\n30;4;USA;2385;135;12.9;plymouth reliant;1/01/1982;84\\r\\n39.1;4;Japan;1755;79;16.9;toyota starlet;1/01/1982;58\\r\\n39;4;USA;1875;86;16.4;plymouth champ;1/01/1982;64\\r\\n35.1;4;Japan;1760;81;16.1;honda civic 1300;1/01/1982;60\\r\\n32.3;4;Japan;2065;97;17.8;subaru;1/01/1982;67\\r\\n37;4;Japan;1975;85;19.4;datsun 210;1/01/1982;65\\r\\n37.7;4;Japan;2050;89;17.3;toyota tercel;1/01/1982;62\\r\\n34.1;4;Japan;1985;91;16;mazda glc 4;1/01/1982;68\\r\\n34.7;4;USA;2215;105;14.9;plymouth horizon 4;1/01/1982;63\\r\\n34.4;4;USA;2045;98;16.2;ford escort 4w;1/01/1982;65\\r\\n29.9;4;USA;2380;98;20.7;ford escort 2h;1/01/1982;65\\r\\n33;4;Europe;2190;105;14.2;volkswagen jetta;1/01/1982;74\\r\\n34.5;4;Europe;2320;100;15.8;renault 18i;1/01/1982;NA\\r\\n33.7;4;Japan;2210;107;14.4;honda prelude;1/01/1982;75\\r\\n32.4;4;Japan;2350;108;16.8;toyota corolla;1/01/1982;75\\r\\n32.9;4;Japan;2615;119;14.8;datsun 200sx;1/01/1982;100\\r\\n31.6;4;Japan;2635;120;18.3;mazda 626;1/01/1982;74\\r\\n28.1;4;Europe;3230;141;20.4;peugeot 505s turbo diesel;1/01/1982;80\\r\\nNA;4;Europe;2800;121;15.4;saab 900s;1/01/1982;110\\r\\n30.7;6;Europe;3160;145;19.6;volvo diesel;1/01/1982;76\\r\\n25.4;6;Japan;2900;168;12.6;toyota cressida;1/01/1982;116\\r\\n24.2;6;Japan;2930;146;13.8;datsun 810 maxima;1/01/1982;120\\r\\n22.4;6;USA;3415;231;15.8;buick century;1/01/1982;110\\r\\n26.6;8;USA;3725;350;19;oldsmobile cutlass ls;1/01/1982;105\\r\\n20.2;6;USA;3060;200;17.1;ford granada gl;1/01/1982;88\\r\\n17.6;6;USA;3465;225;16.6;chrysler lebaron salon;1/01/1982;85\\r\\n28;4;USA;2605;112;19.6;chevrolet cavalier;1/01/1982;88\\r\\n27;4;USA;2640;112;18.6;chevrolet cavalier wagon;1/01/1982;88\\r\\n34;4;USA;2395;112;18;chevrolet cavalier 2-door;1/01/1982;88\\r\\n31;4;USA;2575;112;16.2;pontiac j2000 se hatchback;1/01/1982;85\\r\\n29;4;USA;2525;135;16;dodge aries se;1/01/1982;84\\r\\n27;4;USA;2735;151;18;pontiac phoenix;1/01/1982;90\\r\\n24;4;USA;2865;140;16.4;ford fairmont futura;1/01/1982;92\\r\\n23;4;USA;3035;151;20.5;amc concord dl;1/01/1982;NA\\r\\n36;4;Europe;1980;105;15.3;volkswagen rabbit l;1/01/1982;74\\r\\n37;4;Japan;2025;91;18.2;mazda glc custom l;1/01/1982;68\\r\\n31;4;Japan;1970;91;17.6;mazda glc custom;1/01/1982;68\\r\\n38;4;USA;2125;105;14.7;plymouth horizon miser;1/01/1982;63\\r\\n36;4;USA;2125;98;17.3;mercury lynx l;1/01/1982;70\\r\\n36;4;Japan;2160;120;14.5;nissan stanza xe;1/01/1982;88\\r\\n36;4;Japan;2205;107;14.5;honda Accelerationord;1/01/1982;75\\r\\n34;4;Japan;2245;108;16.9;toyota corolla;1/01/1982;70\\r\\n38;4;Japan;1965;91;15;honda civic;1/01/1982;67\\r\\n32;4;Japan;1965;91;15.7;honda civic (auto);1/01/1982;67\\r\\n38;4;Japan;1995;91;16.2;datsun 310 gx;1/01/1982;67\\r\\n25;6;USA;2945;181;16.4;buick century limited;1/01/1982;110\\r\\n38;6;USA;3015;262;17;oldsmobile cutlass ciera (diesel);1/01/1982;85\\r\\n26;4;USA;2585;156;14.5;chrysler lebaron medallion;1/01/1982;92\\r\\n22;6;USA;2835;232;14.7;ford granada l;1/01/1982;112\\r\\n32;4;Japan;2665;144;13.9;toyota celica gt;1/01/1982;96\\r\\n36;4;USA;2370;135;13;dodge charger 2.2;1/01/1982;84\\r\\n27;4;USA;2950;151;17.3;chevrolet camaro;1/01/1982;90\\r\\n27;4;USA;2790;140;15.6;ford mustang gl;1/01/1982;86\\r\\n44;4;Europe;2130;97;24.6;vw pickup;1/01/1982;52\\r\\n32;4;USA;2295;135;11.6;dodge rampage;1/01/1982;84\\r\\n28;4;USA;2625;120;18.6;ford ranger;1/01/1982;79\\r\\n31;4;USA;2720;119;19.4;chevy s-10;1/01/1982;82\\r\\n\"}"
            ]
          },
          "metadata": {},
          "execution_count": 49
        }
      ]
    },
    {
      "cell_type": "code",
      "source": [
        "#levantamos la data con pandas\n",
        "df = pd.read_csv('autos.csv', sep=';')\n",
        "df.head()"
      ],
      "metadata": {
        "colab": {
          "base_uri": "https://localhost:8080/",
          "height": 206
        },
        "id": "OOloy1Vmh6oZ",
        "outputId": "e4e6fcff-70cc-4931-f304-e9af99515607"
      },
      "execution_count": 50,
      "outputs": [
        {
          "output_type": "execute_result",
          "data": {
            "text/html": [
              "\n",
              "  <div id=\"df-9dc9dec6-da0b-4497-9181-86f22dcbb566\">\n",
              "    <div class=\"colab-df-container\">\n",
              "      <div>\n",
              "<style scoped>\n",
              "    .dataframe tbody tr th:only-of-type {\n",
              "        vertical-align: middle;\n",
              "    }\n",
              "\n",
              "    .dataframe tbody tr th {\n",
              "        vertical-align: top;\n",
              "    }\n",
              "\n",
              "    .dataframe thead th {\n",
              "        text-align: right;\n",
              "    }\n",
              "</style>\n",
              "<table border=\"1\" class=\"dataframe\">\n",
              "  <thead>\n",
              "    <tr style=\"text-align: right;\">\n",
              "      <th></th>\n",
              "      <th>Millas_Por_Galon</th>\n",
              "      <th>Cilindros</th>\n",
              "      <th>Pais_Origen</th>\n",
              "      <th>Peso_En_Libras</th>\n",
              "      <th>Desplazamiento</th>\n",
              "      <th>Aceleracion</th>\n",
              "      <th>Nombre</th>\n",
              "      <th>Anyo</th>\n",
              "      <th>Caballo_De_Fuerza</th>\n",
              "    </tr>\n",
              "  </thead>\n",
              "  <tbody>\n",
              "    <tr>\n",
              "      <th>0</th>\n",
              "      <td>18.0</td>\n",
              "      <td>8</td>\n",
              "      <td>USA</td>\n",
              "      <td>3504</td>\n",
              "      <td>307.0</td>\n",
              "      <td>12.0</td>\n",
              "      <td>chevrolet chevelle malibu</td>\n",
              "      <td>1/01/1970</td>\n",
              "      <td>130.0</td>\n",
              "    </tr>\n",
              "    <tr>\n",
              "      <th>1</th>\n",
              "      <td>15.0</td>\n",
              "      <td>8</td>\n",
              "      <td>USA</td>\n",
              "      <td>3693</td>\n",
              "      <td>350.0</td>\n",
              "      <td>11.5</td>\n",
              "      <td>buick skylark 320</td>\n",
              "      <td>1/01/1970</td>\n",
              "      <td>165.0</td>\n",
              "    </tr>\n",
              "    <tr>\n",
              "      <th>2</th>\n",
              "      <td>18.0</td>\n",
              "      <td>8</td>\n",
              "      <td>USA</td>\n",
              "      <td>3436</td>\n",
              "      <td>318.0</td>\n",
              "      <td>11.0</td>\n",
              "      <td>plymouth satellite</td>\n",
              "      <td>1/01/1970</td>\n",
              "      <td>150.0</td>\n",
              "    </tr>\n",
              "    <tr>\n",
              "      <th>3</th>\n",
              "      <td>16.0</td>\n",
              "      <td>8</td>\n",
              "      <td>USA</td>\n",
              "      <td>3433</td>\n",
              "      <td>304.0</td>\n",
              "      <td>12.0</td>\n",
              "      <td>amc rebel sst</td>\n",
              "      <td>1/01/1970</td>\n",
              "      <td>150.0</td>\n",
              "    </tr>\n",
              "    <tr>\n",
              "      <th>4</th>\n",
              "      <td>17.0</td>\n",
              "      <td>8</td>\n",
              "      <td>USA</td>\n",
              "      <td>3449</td>\n",
              "      <td>302.0</td>\n",
              "      <td>10.5</td>\n",
              "      <td>ford torino</td>\n",
              "      <td>1/01/1970</td>\n",
              "      <td>140.0</td>\n",
              "    </tr>\n",
              "  </tbody>\n",
              "</table>\n",
              "</div>\n",
              "      <button class=\"colab-df-convert\" onclick=\"convertToInteractive('df-9dc9dec6-da0b-4497-9181-86f22dcbb566')\"\n",
              "              title=\"Convert this dataframe to an interactive table.\"\n",
              "              style=\"display:none;\">\n",
              "        \n",
              "  <svg xmlns=\"http://www.w3.org/2000/svg\" height=\"24px\"viewBox=\"0 0 24 24\"\n",
              "       width=\"24px\">\n",
              "    <path d=\"M0 0h24v24H0V0z\" fill=\"none\"/>\n",
              "    <path d=\"M18.56 5.44l.94 2.06.94-2.06 2.06-.94-2.06-.94-.94-2.06-.94 2.06-2.06.94zm-11 1L8.5 8.5l.94-2.06 2.06-.94-2.06-.94L8.5 2.5l-.94 2.06-2.06.94zm10 10l.94 2.06.94-2.06 2.06-.94-2.06-.94-.94-2.06-.94 2.06-2.06.94z\"/><path d=\"M17.41 7.96l-1.37-1.37c-.4-.4-.92-.59-1.43-.59-.52 0-1.04.2-1.43.59L10.3 9.45l-7.72 7.72c-.78.78-.78 2.05 0 2.83L4 21.41c.39.39.9.59 1.41.59.51 0 1.02-.2 1.41-.59l7.78-7.78 2.81-2.81c.8-.78.8-2.07 0-2.86zM5.41 20L4 18.59l7.72-7.72 1.47 1.35L5.41 20z\"/>\n",
              "  </svg>\n",
              "      </button>\n",
              "      \n",
              "  <style>\n",
              "    .colab-df-container {\n",
              "      display:flex;\n",
              "      flex-wrap:wrap;\n",
              "      gap: 12px;\n",
              "    }\n",
              "\n",
              "    .colab-df-convert {\n",
              "      background-color: #E8F0FE;\n",
              "      border: none;\n",
              "      border-radius: 50%;\n",
              "      cursor: pointer;\n",
              "      display: none;\n",
              "      fill: #1967D2;\n",
              "      height: 32px;\n",
              "      padding: 0 0 0 0;\n",
              "      width: 32px;\n",
              "    }\n",
              "\n",
              "    .colab-df-convert:hover {\n",
              "      background-color: #E2EBFA;\n",
              "      box-shadow: 0px 1px 2px rgba(60, 64, 67, 0.3), 0px 1px 3px 1px rgba(60, 64, 67, 0.15);\n",
              "      fill: #174EA6;\n",
              "    }\n",
              "\n",
              "    [theme=dark] .colab-df-convert {\n",
              "      background-color: #3B4455;\n",
              "      fill: #D2E3FC;\n",
              "    }\n",
              "\n",
              "    [theme=dark] .colab-df-convert:hover {\n",
              "      background-color: #434B5C;\n",
              "      box-shadow: 0px 1px 3px 1px rgba(0, 0, 0, 0.15);\n",
              "      filter: drop-shadow(0px 1px 2px rgba(0, 0, 0, 0.3));\n",
              "      fill: #FFFFFF;\n",
              "    }\n",
              "  </style>\n",
              "\n",
              "      <script>\n",
              "        const buttonEl =\n",
              "          document.querySelector('#df-9dc9dec6-da0b-4497-9181-86f22dcbb566 button.colab-df-convert');\n",
              "        buttonEl.style.display =\n",
              "          google.colab.kernel.accessAllowed ? 'block' : 'none';\n",
              "\n",
              "        async function convertToInteractive(key) {\n",
              "          const element = document.querySelector('#df-9dc9dec6-da0b-4497-9181-86f22dcbb566');\n",
              "          const dataTable =\n",
              "            await google.colab.kernel.invokeFunction('convertToInteractive',\n",
              "                                                     [key], {});\n",
              "          if (!dataTable) return;\n",
              "\n",
              "          const docLinkHtml = 'Like what you see? Visit the ' +\n",
              "            '<a target=\"_blank\" href=https://colab.research.google.com/notebooks/data_table.ipynb>data table notebook</a>'\n",
              "            + ' to learn more about interactive tables.';\n",
              "          element.innerHTML = '';\n",
              "          dataTable['output_type'] = 'display_data';\n",
              "          await google.colab.output.renderOutput(dataTable, element);\n",
              "          const docLink = document.createElement('div');\n",
              "          docLink.innerHTML = docLinkHtml;\n",
              "          element.appendChild(docLink);\n",
              "        }\n",
              "      </script>\n",
              "    </div>\n",
              "  </div>\n",
              "  "
            ],
            "text/plain": [
              "   Millas_Por_Galon  Cilindros  ...       Anyo  Caballo_De_Fuerza\n",
              "0              18.0          8  ...  1/01/1970              130.0\n",
              "1              15.0          8  ...  1/01/1970              165.0\n",
              "2              18.0          8  ...  1/01/1970              150.0\n",
              "3              16.0          8  ...  1/01/1970              150.0\n",
              "4              17.0          8  ...  1/01/1970              140.0\n",
              "\n",
              "[5 rows x 9 columns]"
            ]
          },
          "metadata": {},
          "execution_count": 50
        }
      ]
    },
    {
      "cell_type": "code",
      "source": [
        "df.info()"
      ],
      "metadata": {
        "colab": {
          "base_uri": "https://localhost:8080/"
        },
        "id": "z6M_UMgwgzoo",
        "outputId": "276e9e3c-c6df-4588-f186-a775a9296c27"
      },
      "execution_count": 8,
      "outputs": [
        {
          "output_type": "stream",
          "name": "stdout",
          "text": [
            "<class 'pandas.core.frame.DataFrame'>\n",
            "RangeIndex: 406 entries, 0 to 405\n",
            "Data columns (total 9 columns):\n",
            " #   Column             Non-Null Count  Dtype  \n",
            "---  ------             --------------  -----  \n",
            " 0   Millas_Por_Galon   398 non-null    float64\n",
            " 1   Cilindros          406 non-null    int64  \n",
            " 2   Pais_Origen        406 non-null    object \n",
            " 3   Peso_En_Libras     406 non-null    int64  \n",
            " 4   Desplazamiento     406 non-null    float64\n",
            " 5   Aceleracion        406 non-null    float64\n",
            " 6   Nombre             406 non-null    object \n",
            " 7   Anyo               406 non-null    object \n",
            " 8   Caballo_De_Fuerza  400 non-null    float64\n",
            "dtypes: float64(4), int64(2), object(3)\n",
            "memory usage: 28.7+ KB\n"
          ]
        }
      ]
    },
    {
      "cell_type": "code",
      "source": [
        "print(\"Numero de filas en total: \", len(df.to_numpy()))"
      ],
      "metadata": {
        "colab": {
          "base_uri": "https://localhost:8080/"
        },
        "id": "_fCpsb8okzby",
        "outputId": "f0bc1489-b816-4dc5-8d1d-931b52c191ab"
      },
      "execution_count": 9,
      "outputs": [
        {
          "output_type": "stream",
          "name": "stdout",
          "text": [
            "Numero de filas en total:  406\n"
          ]
        }
      ]
    },
    {
      "cell_type": "code",
      "source": [
        "df.isnull().sum() "
      ],
      "metadata": {
        "colab": {
          "base_uri": "https://localhost:8080/"
        },
        "id": "C7eRJkZmkNmo",
        "outputId": "f3f44715-e25a-4527-f99e-1fd13e87d273"
      },
      "execution_count": 10,
      "outputs": [
        {
          "output_type": "execute_result",
          "data": {
            "text/plain": [
              "Millas_Por_Galon     8\n",
              "Cilindros            0\n",
              "Pais_Origen          0\n",
              "Peso_En_Libras       0\n",
              "Desplazamiento       0\n",
              "Aceleracion          0\n",
              "Nombre               0\n",
              "Anyo                 0\n",
              "Caballo_De_Fuerza    6\n",
              "dtype: int64"
            ]
          },
          "metadata": {},
          "execution_count": 10
        }
      ]
    },
    {
      "cell_type": "code",
      "source": [
        "df.columns"
      ],
      "metadata": {
        "colab": {
          "base_uri": "https://localhost:8080/"
        },
        "id": "-VoOdky8Gewi",
        "outputId": "6b237c44-9f7e-4bd9-a69c-11f4523c9740"
      },
      "execution_count": 11,
      "outputs": [
        {
          "output_type": "execute_result",
          "data": {
            "text/plain": [
              "Index(['Millas_Por_Galon', 'Cilindros', 'Pais_Origen', 'Peso_En_Libras',\n",
              "       'Desplazamiento', 'Aceleracion', 'Nombre', 'Anyo', 'Caballo_De_Fuerza'],\n",
              "      dtype='object')"
            ]
          },
          "metadata": {},
          "execution_count": 11
        }
      ]
    },
    {
      "cell_type": "code",
      "source": [
        "# Data numérica\n",
        "# 'edad', 'meses', 'max_ant', 'ingreso', 'score'\n",
        "data_autos= df.loc[:, ['Millas_Por_Galon', 'Cilindros', 'Peso_En_Libras', 'Desplazamiento', 'Aceleracion', 'Caballo_De_Fuerza']] \n",
        "data_autos.head(6)"
      ],
      "metadata": {
        "colab": {
          "base_uri": "https://localhost:8080/",
          "height": 238
        },
        "id": "83_Fn8eaGErh",
        "outputId": "816b2ae5-3f7d-45b1-d2ac-9189975a0b54"
      },
      "execution_count": 57,
      "outputs": [
        {
          "output_type": "execute_result",
          "data": {
            "text/html": [
              "\n",
              "  <div id=\"df-8c936077-7326-492f-a73f-3609265ecbe9\">\n",
              "    <div class=\"colab-df-container\">\n",
              "      <div>\n",
              "<style scoped>\n",
              "    .dataframe tbody tr th:only-of-type {\n",
              "        vertical-align: middle;\n",
              "    }\n",
              "\n",
              "    .dataframe tbody tr th {\n",
              "        vertical-align: top;\n",
              "    }\n",
              "\n",
              "    .dataframe thead th {\n",
              "        text-align: right;\n",
              "    }\n",
              "</style>\n",
              "<table border=\"1\" class=\"dataframe\">\n",
              "  <thead>\n",
              "    <tr style=\"text-align: right;\">\n",
              "      <th></th>\n",
              "      <th>Millas_Por_Galon</th>\n",
              "      <th>Cilindros</th>\n",
              "      <th>Peso_En_Libras</th>\n",
              "      <th>Desplazamiento</th>\n",
              "      <th>Aceleracion</th>\n",
              "      <th>Caballo_De_Fuerza</th>\n",
              "    </tr>\n",
              "  </thead>\n",
              "  <tbody>\n",
              "    <tr>\n",
              "      <th>0</th>\n",
              "      <td>18.0</td>\n",
              "      <td>8</td>\n",
              "      <td>3504</td>\n",
              "      <td>307.0</td>\n",
              "      <td>12.0</td>\n",
              "      <td>130.0</td>\n",
              "    </tr>\n",
              "    <tr>\n",
              "      <th>1</th>\n",
              "      <td>15.0</td>\n",
              "      <td>8</td>\n",
              "      <td>3693</td>\n",
              "      <td>350.0</td>\n",
              "      <td>11.5</td>\n",
              "      <td>165.0</td>\n",
              "    </tr>\n",
              "    <tr>\n",
              "      <th>2</th>\n",
              "      <td>18.0</td>\n",
              "      <td>8</td>\n",
              "      <td>3436</td>\n",
              "      <td>318.0</td>\n",
              "      <td>11.0</td>\n",
              "      <td>150.0</td>\n",
              "    </tr>\n",
              "    <tr>\n",
              "      <th>3</th>\n",
              "      <td>16.0</td>\n",
              "      <td>8</td>\n",
              "      <td>3433</td>\n",
              "      <td>304.0</td>\n",
              "      <td>12.0</td>\n",
              "      <td>150.0</td>\n",
              "    </tr>\n",
              "    <tr>\n",
              "      <th>4</th>\n",
              "      <td>17.0</td>\n",
              "      <td>8</td>\n",
              "      <td>3449</td>\n",
              "      <td>302.0</td>\n",
              "      <td>10.5</td>\n",
              "      <td>140.0</td>\n",
              "    </tr>\n",
              "    <tr>\n",
              "      <th>5</th>\n",
              "      <td>15.0</td>\n",
              "      <td>8</td>\n",
              "      <td>4341</td>\n",
              "      <td>429.0</td>\n",
              "      <td>10.0</td>\n",
              "      <td>198.0</td>\n",
              "    </tr>\n",
              "  </tbody>\n",
              "</table>\n",
              "</div>\n",
              "      <button class=\"colab-df-convert\" onclick=\"convertToInteractive('df-8c936077-7326-492f-a73f-3609265ecbe9')\"\n",
              "              title=\"Convert this dataframe to an interactive table.\"\n",
              "              style=\"display:none;\">\n",
              "        \n",
              "  <svg xmlns=\"http://www.w3.org/2000/svg\" height=\"24px\"viewBox=\"0 0 24 24\"\n",
              "       width=\"24px\">\n",
              "    <path d=\"M0 0h24v24H0V0z\" fill=\"none\"/>\n",
              "    <path d=\"M18.56 5.44l.94 2.06.94-2.06 2.06-.94-2.06-.94-.94-2.06-.94 2.06-2.06.94zm-11 1L8.5 8.5l.94-2.06 2.06-.94-2.06-.94L8.5 2.5l-.94 2.06-2.06.94zm10 10l.94 2.06.94-2.06 2.06-.94-2.06-.94-.94-2.06-.94 2.06-2.06.94z\"/><path d=\"M17.41 7.96l-1.37-1.37c-.4-.4-.92-.59-1.43-.59-.52 0-1.04.2-1.43.59L10.3 9.45l-7.72 7.72c-.78.78-.78 2.05 0 2.83L4 21.41c.39.39.9.59 1.41.59.51 0 1.02-.2 1.41-.59l7.78-7.78 2.81-2.81c.8-.78.8-2.07 0-2.86zM5.41 20L4 18.59l7.72-7.72 1.47 1.35L5.41 20z\"/>\n",
              "  </svg>\n",
              "      </button>\n",
              "      \n",
              "  <style>\n",
              "    .colab-df-container {\n",
              "      display:flex;\n",
              "      flex-wrap:wrap;\n",
              "      gap: 12px;\n",
              "    }\n",
              "\n",
              "    .colab-df-convert {\n",
              "      background-color: #E8F0FE;\n",
              "      border: none;\n",
              "      border-radius: 50%;\n",
              "      cursor: pointer;\n",
              "      display: none;\n",
              "      fill: #1967D2;\n",
              "      height: 32px;\n",
              "      padding: 0 0 0 0;\n",
              "      width: 32px;\n",
              "    }\n",
              "\n",
              "    .colab-df-convert:hover {\n",
              "      background-color: #E2EBFA;\n",
              "      box-shadow: 0px 1px 2px rgba(60, 64, 67, 0.3), 0px 1px 3px 1px rgba(60, 64, 67, 0.15);\n",
              "      fill: #174EA6;\n",
              "    }\n",
              "\n",
              "    [theme=dark] .colab-df-convert {\n",
              "      background-color: #3B4455;\n",
              "      fill: #D2E3FC;\n",
              "    }\n",
              "\n",
              "    [theme=dark] .colab-df-convert:hover {\n",
              "      background-color: #434B5C;\n",
              "      box-shadow: 0px 1px 3px 1px rgba(0, 0, 0, 0.15);\n",
              "      filter: drop-shadow(0px 1px 2px rgba(0, 0, 0, 0.3));\n",
              "      fill: #FFFFFF;\n",
              "    }\n",
              "  </style>\n",
              "\n",
              "      <script>\n",
              "        const buttonEl =\n",
              "          document.querySelector('#df-8c936077-7326-492f-a73f-3609265ecbe9 button.colab-df-convert');\n",
              "        buttonEl.style.display =\n",
              "          google.colab.kernel.accessAllowed ? 'block' : 'none';\n",
              "\n",
              "        async function convertToInteractive(key) {\n",
              "          const element = document.querySelector('#df-8c936077-7326-492f-a73f-3609265ecbe9');\n",
              "          const dataTable =\n",
              "            await google.colab.kernel.invokeFunction('convertToInteractive',\n",
              "                                                     [key], {});\n",
              "          if (!dataTable) return;\n",
              "\n",
              "          const docLinkHtml = 'Like what you see? Visit the ' +\n",
              "            '<a target=\"_blank\" href=https://colab.research.google.com/notebooks/data_table.ipynb>data table notebook</a>'\n",
              "            + ' to learn more about interactive tables.';\n",
              "          element.innerHTML = '';\n",
              "          dataTable['output_type'] = 'display_data';\n",
              "          await google.colab.output.renderOutput(dataTable, element);\n",
              "          const docLink = document.createElement('div');\n",
              "          docLink.innerHTML = docLinkHtml;\n",
              "          element.appendChild(docLink);\n",
              "        }\n",
              "      </script>\n",
              "    </div>\n",
              "  </div>\n",
              "  "
            ],
            "text/plain": [
              "   Millas_Por_Galon  Cilindros  ...  Aceleracion  Caballo_De_Fuerza\n",
              "0              18.0          8  ...         12.0              130.0\n",
              "1              15.0          8  ...         11.5              165.0\n",
              "2              18.0          8  ...         11.0              150.0\n",
              "3              16.0          8  ...         12.0              150.0\n",
              "4              17.0          8  ...         10.5              140.0\n",
              "5              15.0          8  ...         10.0              198.0\n",
              "\n",
              "[6 rows x 6 columns]"
            ]
          },
          "metadata": {},
          "execution_count": 57
        }
      ]
    },
    {
      "cell_type": "code",
      "source": [
        "# imputamos la data perdida\n",
        "from sklearn.impute import KNNImputer\n",
        "\n",
        "imputacion_NP = KNNImputer(n_neighbors=2)\n",
        "data_autos=imputacion_NP.fit_transform(data_autos)"
      ],
      "metadata": {
        "id": "ri7C51XdDwIy"
      },
      "execution_count": 58,
      "outputs": []
    },
    {
      "cell_type": "code",
      "source": [
        "data_autos = pd.DataFrame(\n",
        "    data=data_autos,\n",
        "    columns=['Millas_Por_Galon', 'Cilindros', 'Peso_En_Libras', 'Desplazamiento', 'Aceleracion', 'Caballo_De_Fuerza'])"
      ],
      "metadata": {
        "id": "aj2zanFpHeW6"
      },
      "execution_count": 67,
      "outputs": []
    },
    {
      "cell_type": "code",
      "source": [
        "data_autos.head()"
      ],
      "metadata": {
        "id": "Ed6oc2JKIILj"
      },
      "execution_count": null,
      "outputs": []
    },
    {
      "cell_type": "markdown",
      "source": [
        "Creamos los vectores para operar con cada columna"
      ],
      "metadata": {
        "id": "xGIkB83eOJ6P"
      }
    },
    {
      "cell_type": "code",
      "source": [
        "Millas_Por_Galon=np.array(data_autos.loc[:, ['Millas_Por_Galon']])\n",
        "Cilindros=np.array(data_autos.loc[:, ['Cilindros']])\n",
        "Peso_En_Libras=np.array(data_autos.loc[:, ['Peso_En_Libras']])\n",
        "Desplazamiento=np.array(data_autos.loc[:, ['Desplazamiento']])\n",
        "Aceleracion=np.array(data_autos.loc[:, ['Aceleracion']])\n",
        "Caballo_De_Fuerza=np.array(data_autos.loc[:, ['Caballo_De_Fuerza']])\n",
        "\n",
        "#np.array()"
      ],
      "metadata": {
        "id": "g5UALlxLKXeY"
      },
      "execution_count": 16,
      "outputs": []
    },
    {
      "cell_type": "code",
      "source": [
        "#importamos la liberia math\n",
        "import math"
      ],
      "metadata": {
        "id": "v33et_U2O3kJ"
      },
      "execution_count": 17,
      "outputs": []
    },
    {
      "cell_type": "code",
      "source": [
        "#Primera variable\n",
        "var1=np.round(np.log10(Millas_Por_Galon/Cilindros), decimals=2)\n",
        "var1\n"
      ],
      "metadata": {
        "id": "Kk1Z6Da3OQq3"
      },
      "execution_count": null,
      "outputs": []
    },
    {
      "cell_type": "code",
      "source": [
        "#Segunda variable\n",
        "var2=np.round(np.sqrt(Millas_Por_Galon)*np.exp(Cilindros)/200, decimals=2)\n",
        "var2"
      ],
      "metadata": {
        "id": "0aXbMOTdSHcw"
      },
      "execution_count": null,
      "outputs": []
    },
    {
      "cell_type": "code",
      "source": [
        "#Tercera variable\n",
        "v=[]\n",
        "for i in range(0, 406):\n",
        "  if Millas_Por_Galon[i]<Aceleracion[i] :\n",
        "      v.append(5)\n",
        "  else:\n",
        "      v.append(3)\n",
        "\n",
        "var3=np.array(v)\n",
        "len(var3)\n",
        "var3\n"
      ],
      "metadata": {
        "id": "EXURbtIiN8zQ"
      },
      "execution_count": null,
      "outputs": []
    },
    {
      "cell_type": "code",
      "source": [
        "#Cuarta variable\n",
        "var4=np.round(1/np.log(Millas_Por_Galon/Cilindros)*100,decimals=2)\n",
        "var4"
      ],
      "metadata": {
        "id": "7QYBDcTCXELn"
      },
      "execution_count": null,
      "outputs": []
    },
    {
      "cell_type": "code",
      "source": [
        "#Quinta variable\n",
        "var5= np.round(Millas_Por_Galon**2/Cilindros, decimals=2)\n",
        "var5"
      ],
      "metadata": {
        "id": "O8Y1wgKEX3Ns"
      },
      "execution_count": null,
      "outputs": []
    },
    {
      "cell_type": "code",
      "source": [
        "#Sexta variable\n",
        "v=[]\n",
        "for i in range(0, 406):\n",
        "  if Cilindros[i]>np.mean(Cilindros)+1*np.std(Cilindros):\n",
        "      v.append(\"Alto\")\n",
        "  elif Cilindros[i]<np.mean(Cilindros)+1*np.std(Cilindros) and Cilindros[i]>np.mean(Cilindros)-1*np.std(Cilindros):\n",
        "      v.append(\"Medio\")\n",
        "  else :\n",
        "      v.append(\"Bajo\")\n",
        "\n",
        "var6=np.array(v)\n",
        "var6"
      ],
      "metadata": {
        "id": "dfq4wSUcaxuU"
      },
      "execution_count": null,
      "outputs": []
    },
    {
      "cell_type": "code",
      "source": [
        "data_autos.insert(loc = 2, column = 'Pais_Origen', value = np.array(df.loc[:, ['Pais_Origen']])) \n",
        "data_autos.insert(loc = 6, column = 'Nombre', value = np.array(df.loc[:, ['Nombre']])) \n",
        "data_autos.insert(loc = 7, column = 'Anyo', value = np.array(df.loc[:, ['Anyo']])) \n",
        "data_autos\n"
      ],
      "metadata": {
        "id": "MsnNORMyWJ0r"
      },
      "execution_count": null,
      "outputs": []
    },
    {
      "cell_type": "code",
      "source": [
        "#agregando las variables generadas a nuestra data frame\n",
        "\n",
        "data_autos.loc[:,'Var_1'] = var1\n",
        "data_autos.loc[:,'Var_2'] = var2\n",
        "data_autos.loc[:,'Var_3'] = var3\n",
        "data_autos.loc[:,'Var_4'] = var4\n",
        "data_autos.loc[:,'Var_5'] = var5\n",
        "data_autos.loc[:,'Var_6'] = var6\n",
        "\n",
        "data_autos.head()"
      ],
      "metadata": {
        "id": "7mG685ZP97lb"
      },
      "execution_count": null,
      "outputs": []
    },
    {
      "cell_type": "code",
      "source": [
        "# Diagrama de Caja y Bigotes\n",
        "df_s_zona = data_autos.loc[:, ['Desplazamiento', 'Cilindros']] \n",
        "df_s_zona.Desplazamiento.plot.box()"
      ],
      "metadata": {
        "id": "_4158PJ8YhsT"
      },
      "execution_count": null,
      "outputs": []
    },
    {
      "cell_type": "code",
      "source": [
        "# Barras de la media\n",
        "nombres=['Mi_Galon', 'Cilindros', 'P_Libras', 'Despl', 'Acel', 'Caballo_Fuerza']\n",
        "medias=[np.mean(Millas_Por_Galon),np.mean(Cilindros),np.mean(Peso_En_Libras),np.mean(Desplazamiento),np.mean(Aceleracion),np.mean(Caballo_De_Fuerza)]\n",
        "plt.title(\"Histograma con la media de los Valores numericos\")\n",
        "plt.bar(nombres,height=medias, color=[\"blue\", \"red\",\"green\",\"gray\",\"black\",\"purple\"], width=0.5)\n",
        "plt.show()"
      ],
      "metadata": {
        "id": "ZZscgTrdwXVZ"
      },
      "execution_count": null,
      "outputs": []
    }
  ]
}